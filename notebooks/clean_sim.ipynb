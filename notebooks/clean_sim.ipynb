{
 "cells": [
  {
   "cell_type": "code",
   "execution_count": 1,
   "id": "e941125b-4555-4c67-a3b7-8b19508b9fa2",
   "metadata": {},
   "outputs": [],
   "source": [
    "import pandas as pd\n",
    "import numpy as np"
   ]
  },
  {
   "cell_type": "code",
   "execution_count": 8,
   "id": "d4cf4647-c409-4c96-a401-f82c4a9b8f25",
   "metadata": {},
   "outputs": [],
   "source": [
    "sim_result = pd.read_csv('../simulation_result/result.csv')\n",
    "chun_result = pd.read_csv('../simulation_result/chun_results.csv')\n",
    "sim_result = pd.concat([sim_result,chun_result], axis = 1)\n",
    "sim_result['h_cover'] = np.where(np.logical_and(sim_result.h_est_upper >sim_result.true_h, \n",
    "                                                sim_result.h_est_lower <sim_result.true_h), 1, 0)\n",
    "sim_result['pi_cover'] = np.where(np.logical_and(sim_result.global_pi_upper >sim_result.true_pi, \n",
    "                                                sim_result.global_pi_lower <sim_result.true_pi), 1, 0)\n",
    "sim_result.rename(columns = {'mae':'mae_gcta', 'h2':'h_gcta'}, inplace = True)\n",
    "t = sim_result.groupby(['true_h', 'true_pi']).mean()[['mean_h_est','h_gcta','global_pi', 'h_cover', 'pi_cover', \n",
    "                                                  'mae_latent', 'mae_lasso', 'mae_ridge','mae_gcta']]"
   ]
  },
  {
   "cell_type": "code",
   "execution_count": 9,
   "id": "42a53078-4d27-4550-a822-e8e1c1927638",
   "metadata": {},
   "outputs": [
    {
     "name": "stdout",
     "output_type": "stream",
     "text": [
      "\\begin{tabular}{llrrrrrrrrr}\n",
      "\\toprule\n",
      "     &       &  mean\\_h\\_est &  h\\_gcta &  global\\_pi &  h\\_cover &  pi\\_cover &  mae\\_latent &  mae\\_lasso &  mae\\_ridge &  mae\\_gcta \\\\\n",
      "true\\_h & true\\_pi &             &         &            &          &           &             &            &            &           \\\\\n",
      "\\midrule\n",
      "0.25 & 0.005 &       0.241 &   0.124 &      0.011 &    0.990 &      1.00 &       0.397 &      0.464 &      0.476 &     0.507 \\\\\n",
      "     & 0.010 &       0.241 &   0.127 &      0.016 &    0.998 &      1.00 &       0.593 &      0.693 &      0.710 &     0.759 \\\\\n",
      "     & 0.050 &       0.236 &   0.129 &      0.040 &    1.000 &      1.00 &       1.468 &      1.708 &      1.729 &     1.855 \\\\\n",
      "     & 0.100 &       0.230 &   0.131 &      0.053 &    0.992 &      0.99 &       2.067 &      2.402 &      2.411 &     2.585 \\\\\n",
      "0.50 & 0.005 &       0.487 &   0.260 &      0.010 &    0.990 &      1.00 &       0.231 &      0.280 &      0.287 &     0.448 \\\\\n",
      "     & 0.010 &       0.487 &   0.263 &      0.015 &    0.998 &      1.00 &       0.342 &      0.413 &      0.423 &     0.663 \\\\\n",
      "     & 0.050 &       0.479 &   0.265 &      0.044 &    0.996 &      1.00 &       0.850 &      1.016 &      1.034 &     1.599 \\\\\n",
      "     & 0.100 &       0.472 &   0.269 &      0.065 &    1.000 &      1.00 &       1.213 &      1.435 &      1.452 &     2.265 \\\\\n",
      "0.80 & 0.005 &       0.792 &   0.438 &      0.008 &    0.924 &      1.00 &       0.115 &      0.163 &      0.167 &     0.620 \\\\\n",
      "     & 0.010 &       0.791 &   0.447 &      0.014 &    0.972 &      1.00 &       0.169 &      0.238 &      0.244 &     0.888 \\\\\n",
      "     & 0.050 &       0.786 &   0.449 &      0.049 &    0.996 &      1.00 &       0.423 &      0.591 &      0.599 &     2.197 \\\\\n",
      "     & 0.100 &       0.780 &   0.450 &      0.078 &    0.998 &      1.00 &       0.615 &      0.842 &      0.849 &     2.930 \\\\\n",
      "\\bottomrule\n",
      "\\end{tabular}\n",
      "\n"
     ]
    },
    {
     "name": "stderr",
     "output_type": "stream",
     "text": [
      "/var/folders/cy/7rpv9wdx3nb25gzbj78xgqwm0000gn/T/ipykernel_41678/1802599419.py:2: FutureWarning: In future versions `DataFrame.to_latex` is expected to utilise the base implementation of `Styler.to_latex` for formatting and rendering. The arguments signature may therefore change. It is recommended instead to use `DataFrame.style.to_latex` which also contains additional functionality.\n",
      "  t.round(3).to_latex()\n"
     ]
    }
   ],
   "source": [
    "print(\n",
    "    t.round(3).to_latex()\n",
    ")"
   ]
  },
  {
   "cell_type": "code",
   "execution_count": null,
   "id": "8cadaa92-0ddc-40c7-a73a-1df1b8c0376d",
   "metadata": {},
   "outputs": [],
   "source": []
  }
 ],
 "metadata": {
  "kernelspec": {
   "display_name": "Python 3 (ipykernel)",
   "language": "python",
   "name": "python3"
  },
  "language_info": {
   "codemirror_mode": {
    "name": "ipython",
    "version": 3
   },
   "file_extension": ".py",
   "mimetype": "text/x-python",
   "name": "python",
   "nbconvert_exporter": "python",
   "pygments_lexer": "ipython3",
   "version": "3.10.9"
  }
 },
 "nbformat": 4,
 "nbformat_minor": 5
}
