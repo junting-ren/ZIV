{
 "cells": [
  {
   "cell_type": "code",
   "execution_count": 1,
   "id": "737b7205-2707-4eaf-a885-0467cd011f8e",
   "metadata": {},
   "outputs": [],
   "source": [
    "import sys\n",
    "sys.path.insert(1,'../functions/')\n",
    "import torch\n",
    "from torch import nn\n",
    "import numpy as np\n",
    "import data_sim\n",
    "import matplotlib.pyplot as plt\n",
    "import xarray as xr\n",
    "import copy\n",
    "import pandas as pd\n",
    "from torch.utils.data import Dataset, DataLoader\n",
    "#from slab_spike_model_constructor import *\n",
    "from full_slab_spike_model_constructor import *\n",
    "from training_func import *"
   ]
  },
  {
   "cell_type": "code",
   "execution_count": 2,
   "id": "ff05aad2-2bfa-4e60-8794-0adc805e0b59",
   "metadata": {},
   "outputs": [
    {
     "data": {
      "text/plain": [
       "True"
      ]
     },
     "execution_count": 2,
     "metadata": {},
     "output_type": "execute_result"
    }
   ],
   "source": [
    "torch.cuda.is_available()"
   ]
  },
  {
   "cell_type": "code",
   "execution_count": 2,
   "id": "ba18e1a7-8047-43b1-bc8d-d911f0559fbc",
   "metadata": {
    "tags": []
   },
   "outputs": [
    {
     "data": {
      "text/plain": [
       "(3565, 102484)"
      ]
     },
     "execution_count": 2,
     "metadata": {},
     "output_type": "execute_result"
    }
   ],
   "source": [
    "G_21 = xr.open_dataset(\"../dataset/G_21_subset_imputed.nc\")\n",
    "G_21 = G_21.to_array().values.squeeze(0)\n",
    "G_21.shape"
   ]
  },
  {
   "cell_type": "code",
   "execution_count": 3,
   "id": "4af1ec4c-8add-48f5-983d-2f9e21c4a011",
   "metadata": {},
   "outputs": [
    {
     "name": "stdout",
     "output_type": "stream",
     "text": [
      "(300, 9000)\n",
      "0.16666666666666666\n"
     ]
    }
   ],
   "source": [
    "real_data_index = True\n",
    "n = 300\n",
    "p = 9000\n",
    "p_causal = 30\n",
    "batch_size = 50\n",
    "r_batch = batch_size/n\n",
    "device = 'cpu'\n",
    "if real_data_index:\n",
    "    np.random.seed(seed = None)\n",
    "    p_max = G_21.shape[1]\n",
    "    n_max = G_21.shape[0]\n",
    "    SNP_index = np.random.choice(p_max,size = p, replace = False)\n",
    "    subject_index =  np.random.choice(n_max,size = n, replace = False)\n",
    "    G_21_sub = G_21[np.ix_(subject_index, SNP_index)]\n",
    "    print(G_21_sub.shape)\n",
    "    freq_snp = G_21_sub.mean(axis = 0)/2\n",
    "    sd_snp = np.sqrt(2*freq_snp*(1-freq_snp))\n",
    "    G_21_sub = (G_21_sub-2*freq_snp)/sd_snp\n",
    "    Xs = [G_21_sub]\n",
    "    n = Xs[0].shape[0]\n",
    "    p = Xs[0].shape[1]\n",
    "else:\n",
    "    Xs = None\n",
    "print(r_batch)"
   ]
  },
  {
   "cell_type": "code",
   "execution_count": 4,
   "id": "122d8b67-e24b-484b-b84d-32c380fe77b2",
   "metadata": {
    "tags": []
   },
   "outputs": [
    {
     "data": {
      "image/png": "[encoded data removed]",
      "text/plain": [
       "<Figure size 640x480 with 2 Axes>"
      ]
     },
     "metadata": {},
     "output_type": "display_data"
    },
    {
     "name": "stdout",
     "output_type": "stream",
     "text": [
      "------------------------------------\n",
      "genetic variance is 42.121983484515255\n",
      "total variance is140.40661161505085\n",
      "heritability is 0.3\n",
      "------------------------------------\n"
     ]
    }
   ],
   "source": [
    "rho = 0.6\n",
    "var = 1\n",
    "n_matrix = 1\n",
    "h = 0.3\n",
    "beta_bias = 1\n",
    "sim_class = data_sim.sim_tobit_data(n = n, p = p, p_causal = p_causal, rho = rho, var = var, n_matrix = n_matrix,h = h, bias = beta_bias, Xs = Xs, scale_lambda =None)\n",
    "z, X, Xs, latent_mean, var_genetic, var_total, true_beta, y_star = sim_class.gen_data(seed = None)\n",
    "data_sim.show_sim(z, latent_mean, var_total)"
   ]
  },
  {
   "cell_type": "code",
   "execution_count": 5,
   "id": "db0fc302-a046-48d5-a0a1-3b0955cbcdd7",
   "metadata": {},
   "outputs": [],
   "source": [
    "sim_data = Sim_Dataset(X.double().to(device),y_star.double().to(device))\n",
    "sim_data_loader = DataLoader(sim_data, batch_size = batch_size)\n",
    "model = linear_slab_spike(p = p, init_pi_local = 0.5, init_pi_global = 0.1, init_beta_var = 2, init_noise_var = 0.1,\n",
    "                         gumbel_softmax_temp = 1, gumbel_softmax_hard = False, \n",
    "                          a1= 0.1, a2=0.1, init_a3= 0.1, init_a4 = 0.1,\n",
    "                          q1 = 1.1, q2 = 1.1, init_q3 = 1.1, init_q4 = 1.1, n_E = 1\n",
    "                          , prior_sparsity = True, device = device\n",
    "                         ).double().to(device)\n",
    "optimizer = torch.optim.Adam(\n",
    "    [{'params': model.beta_mu},\n",
    "     {'params': model.beta_log_var},\n",
    "     {'params': model.logit_pi_local, 'lr': 0.5},\n",
    "     {'params': model.log_a3},\n",
    "     {'params': model.log_a4},\n",
    "     {'params': model.log_q3},\n",
    "     {'params': model.log_q4},\n",
    "     {'params': model.bias},\n",
    "     {'params': model.logit_pi_global, 'lr':0.5},\n",
    "     {'params': model.beta_log_var_prior},\n",
    "     {'params': model.log_var_noise},\n",
    "    ],\n",
    "    lr = 0.05)"
   ]
  },
  {
   "cell_type": "code",
   "execution_count": 6,
   "id": "90cd6f04-1a47-478a-8925-b88a43ff2300",
   "metadata": {
    "tags": []
   },
   "outputs": [
    {
     "name": "stdout",
     "output_type": "stream",
     "text": [
      "At iteration 0, the loss is 43732.147759431326\n"
     ]
    },
    {
     "name": "stderr",
     "output_type": "stream",
     "text": [
      "\n",
      "KeyboardInterrupt\n",
      "\n"
     ]
    }
   ],
   "source": [
    "lr_scheduler = torch.optim.lr_scheduler.ExponentialLR(optimizer=optimizer, gamma=0.99)\n",
    "t = 100 #number of moving averages\n",
    "patience = 100# patience\n",
    "_, result_dict = train_and_infer(model = model, optimizer = optimizer, sim_data_loader = sim_data_loader, lr_scheduler = lr_scheduler, t = t, patience = patience,X = X, plot = True, true_beta = true_beta, verbose = True)"
   ]
  },
  {
   "cell_type": "code",
   "execution_count": 89,
   "id": "88255da8-3886-4cca-9f9f-79cdfb5ff370",
   "metadata": {},
   "outputs": [
    {
     "data": {
      "text/plain": [
       "{'mean_h_est': [0.3980380325591052],\n",
       " 'h_est_upper': [0.7382487793678022],\n",
       " 'h_est_lower': [0.0490941527715909],\n",
       " 'mean_var_genetic': [108.54439418490881],\n",
       " 'noise_var': [124.65975968844012],\n",
       " 'global_pi': [0.0004987884550545703],\n",
       " 'global_pi_upper': [0.0010606043705193309],\n",
       " 'global_pi_lower': [0.00015575905227827158]}"
      ]
     },
     "execution_count": 89,
     "metadata": {},
     "output_type": "execute_result"
    }
   ],
   "source": [
    "result_dict"
   ]
  },
  {
   "cell_type": "code",
   "execution_count": 66,
   "id": "05fa213d-e116-4523-935a-d08e2a5c763a",
   "metadata": {},
   "outputs": [
    {
     "data": {
      "text/plain": [
       "0.0033333333333333335"
      ]
     },
     "execution_count": 66,
     "metadata": {},
     "output_type": "execute_result"
    }
   ],
   "source": [
    "p_causal/p"
   ]
  },
  {
   "cell_type": "code",
   "execution_count": 25,
   "id": "d4ead263-ef09-4445-98bc-23a0e299dd02",
   "metadata": {},
   "outputs": [
    {
     "name": "stdout",
     "output_type": "stream",
     "text": [
      "tensor(1.0000, dtype=torch.float64, grad_fn=<MaxBackward1>)\n",
      "tensor(6.4280e-09, dtype=torch.float64, grad_fn=<MinBackward1>)\n",
      "tensor(0.4833, dtype=torch.float64, grad_fn=<MeanBackward0>)\n"
     ]
    }
   ],
   "source": [
    "# torch.sum(torch.sigmoid(model.logit_pi_local)>0.9)/p\n",
    "print(torch.max(torch.sigmoid(model.logit_pi_local)))\n",
    "print(torch.min(torch.sigmoid(model.logit_pi_local)))\n",
    "# torch.min(model.beta_mu)\n",
    "# torch.max(model.beta_mu)\n",
    "torch.exp(model.beta_log_var)\n",
    "print(torch.mean(torch.exp(model.beta_log_var)))"
   ]
  },
  {
   "cell_type": "code",
   "execution_count": 9,
   "id": "97623cbe-d802-4fe2-af84-2c1204d0aa74",
   "metadata": {
    "collapsed": true,
    "jupyter": {
     "outputs_hidden": true
    },
    "tags": []
   },
   "outputs": [
    {
     "ename": "NameError",
     "evalue": "name 'best_model' is not defined",
     "output_type": "error",
     "traceback": [
      "\u001b[0;31m---------------------------------------------------------------------------\u001b[0m",
      "\u001b[0;31mNameError\u001b[0m                                 Traceback (most recent call last)",
      "Cell \u001b[0;32mIn[9], line 1\u001b[0m\n\u001b[0;32m----> 1\u001b[0m c \u001b[38;5;241m=\u001b[39m torch\u001b[38;5;241m.\u001b[39mexp(\u001b[43mbest_model\u001b[49m\u001b[38;5;241m.\u001b[39mlog_c)\u001b[38;5;241m.\u001b[39mdetach()\u001b[38;5;241m.\u001b[39mnumpy()\n\u001b[1;32m      2\u001b[0m d \u001b[38;5;241m=\u001b[39m torch\u001b[38;5;241m.\u001b[39mexp(best_model\u001b[38;5;241m.\u001b[39mlog_d)\u001b[38;5;241m.\u001b[39mdetach()\u001b[38;5;241m.\u001b[39mnumpy()\n\u001b[1;32m      3\u001b[0m \u001b[38;5;66;03m# c = 10\u001b[39;00m\n\u001b[1;32m      4\u001b[0m \u001b[38;5;66;03m# d = 10\u001b[39;00m\n",
      "\u001b[0;31mNameError\u001b[0m: name 'best_model' is not defined"
     ]
    }
   ],
   "source": [
    "c = torch.exp(best_model.log_c).detach().numpy()\n",
    "d = torch.exp(best_model.log_d).detach().numpy()\n",
    "# c = 10\n",
    "# d = 10\n",
    "print(c)\n",
    "print(d)\n",
    "posterior = np.random.beta(c,d,size = (5000,))\n",
    "np.median(posterior)\n",
    "print(np.quantile(posterior, q = 0.025))\n",
    "print(np.quantile(posterior, q = 0.975))\n",
    "plt.hist(posterior)\n",
    "plt.show()"
   ]
  },
  {
   "cell_type": "code",
   "execution_count": null,
   "id": "05e264dc-77e3-4fb6-848d-e2e5b8a3868d",
   "metadata": {},
   "outputs": [],
   "source": []
  }
 ],
 "metadata": {
  "kernelspec": {
   "display_name": "Python 3 (ipykernel)",
   "language": "python",
   "name": "python3"
  },
  "language_info": {
   "codemirror_mode": {
    "name": "ipython",
    "version": 3
   },
   "file_extension": ".py",
   "mimetype": "text/x-python",
   "name": "python",
   "nbconvert_exporter": "python",
   "pygments_lexer": "ipython3",
   "version": "3.10.8"
  }
 },
 "nbformat": 4,
 "nbformat_minor": 5
}
