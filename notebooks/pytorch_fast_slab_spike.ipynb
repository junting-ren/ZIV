{
 "cells": [
  {
   "cell_type": "code",
   "execution_count": 1,
   "id": "737b7205-2707-4eaf-a885-0467cd011f8e",
   "metadata": {},
   "outputs": [],
   "source": [
    "import sys\n",
    "sys.path.insert(1,'../functions/')\n",
    "import torch\n",
    "from torch import nn\n",
    "import numpy as np\n",
    "import data_sim\n",
    "import matplotlib.pyplot as plt\n",
    "import xarray as xr\n",
    "import copy\n",
    "#from slab_spike_model_constructor import *\n",
    "from full_slab_spike_model_constructor import *"
   ]
  },
  {
   "cell_type": "code",
   "execution_count": 2,
   "id": "ff05aad2-2bfa-4e60-8794-0adc805e0b59",
   "metadata": {},
   "outputs": [
    {
     "data": {
      "text/plain": [
       "False"
      ]
     },
     "execution_count": 2,
     "metadata": {},
     "output_type": "execute_result"
    }
   ],
   "source": [
    "torch.cuda.is_available()"
   ]
  },
  {
   "cell_type": "code",
   "execution_count": 3,
   "id": "ba18e1a7-8047-43b1-bc8d-d911f0559fbc",
   "metadata": {
    "tags": []
   },
   "outputs": [
    {
     "data": {
      "text/plain": [
       "(3565, 102484)"
      ]
     },
     "execution_count": 3,
     "metadata": {},
     "output_type": "execute_result"
    }
   ],
   "source": [
    "G_21 = xr.open_dataset(\"../dataset/G_21_subset_imputed.nc\")\n",
    "G_21 = G_21.to_array().values.squeeze(0)\n",
    "G_21.shape"
   ]
  },
  {
   "cell_type": "code",
   "execution_count": 160,
   "id": "4af1ec4c-8add-48f5-983d-2f9e21c4a011",
   "metadata": {},
   "outputs": [
    {
     "name": "stdout",
     "output_type": "stream",
     "text": [
      "(500, 5000)\n"
     ]
    }
   ],
   "source": [
    "real_data_index = True\n",
    "n = 500\n",
    "p = 5000\n",
    "p_causal = 50\n",
    "if real_data_index:\n",
    "    np.random.seed(seed = None)\n",
    "    p_max = G_21.shape[1]\n",
    "    n_max = G_21.shape[0]\n",
    "    SNP_index = np.random.choice(p_max,size = p, replace = False)\n",
    "    subject_index =  np.random.choice(n_max,size = n, replace = False)\n",
    "    G_21_sub = G_21[np.ix_(subject_index, SNP_index)]\n",
    "    print(G_21_sub.shape)\n",
    "    freq_snp = G_21_sub.mean(axis = 0)/2\n",
    "    sd_snp = np.sqrt(2*freq_snp*(1-freq_snp))\n",
    "    G_21_sub = (G_21_sub-2*freq_snp)/sd_snp\n",
    "    Xs = [G_21_sub]\n",
    "    n = Xs[0].shape[0]\n",
    "    p = Xs[0].shape[1]\n",
    "else:\n",
    "    Xs = None"
   ]
  },
  {
   "cell_type": "code",
   "execution_count": 161,
   "id": "122d8b67-e24b-484b-b84d-32c380fe77b2",
   "metadata": {
    "tags": []
   },
   "outputs": [
    {
     "data": {
      "image/png": "[encoded data removed]",
      "text/plain": [
       "<Figure size 640x480 with 2 Axes>"
      ]
     },
     "metadata": {},
     "output_type": "display_data"
    },
    {
     "name": "stdout",
     "output_type": "stream",
     "text": [
      "------------------------------------\n",
      "genetic variance is 52.36226175791252\n",
      "total variance is104.72452351582504\n",
      "heritability is 0.5\n",
      "------------------------------------\n"
     ]
    }
   ],
   "source": [
    "rho = 0.6\n",
    "var = 1\n",
    "n_matrix = 1\n",
    "h = 0.5\n",
    "beta_bias = 1\n",
    "sim_class = data_sim.sim_tobit_data(n = n, p = p, p_causal = p_causal, rho = rho, var = var, n_matrix = n_matrix,h = h, bias = beta_bias, Xs = Xs, scale_lambda =None)\n",
    "z, X, Xs, latent_mean, var_genetic, var_total, true_beta, y_star = sim_class.gen_data(seed = None)\n",
    "data_sim.show_sim(z, latent_mean, var_total)"
   ]
  },
  {
   "cell_type": "code",
   "execution_count": 162,
   "id": "db0fc302-a046-48d5-a0a1-3b0955cbcdd7",
   "metadata": {},
   "outputs": [],
   "source": [
    "model = linear_slab_spike(p = p, init_pi_local = 0.2, init_pi_global = 0.1, init_beta_var = 2, init_noise_var = 0.1,\n",
    "                         gumbel_softmax_temp = 1, gumbel_softmax_hard = True, \n",
    "                          a= 0.1, b=0.1, init_c= 0.1, init_d = 0.1,\n",
    "                          q1 = 1.1, q2 = 1.1, init_q3 = 1.1, init_q4 = 1.1, n_E = 100, prior_sparsity = True\n",
    "                         ).double()\n",
    "optimizer = torch.optim.Adam(\n",
    "    [{'params': model.beta_mu},\n",
    "     {'params': model.beta_log_var},\n",
    "     {'params': model.logit_pi_local, 'lr': 0.5},\n",
    "     {'params': model.log_c},\n",
    "     {'params': model.log_d},\n",
    "     {'params': model.log_q3},\n",
    "     {'params': model.log_q4},\n",
    "     {'params': model.bias},\n",
    "     {'params': model.logit_pi_global},\n",
    "     {'params': model.beta_log_var_prior},\n",
    "     {'params': model.log_var_noise},\n",
    "    ],\n",
    "    lr = 0.05)"
   ]
  },
  {
   "cell_type": "code",
   "execution_count": null,
   "id": "90cd6f04-1a47-478a-8925-b88a43ff2300",
   "metadata": {
    "tags": []
   },
   "outputs": [
    {
     "name": "stdout",
     "output_type": "stream",
     "text": [
      "At iteration 0, the loss is 93543.59148282545\n",
      "At iteration 1000, the loss is 4153.620639382812\n",
      "At iteration 2000, the loss is 3976.195757440779\n"
     ]
    }
   ],
   "source": [
    "lr_scheduler = torch.optim.lr_scheduler.ExponentialLR(optimizer=optimizer, gamma=0.99)\n",
    "t = 100 #number of moving averages\n",
    "patience = 50# patience\n",
    "p_cur = 0 \n",
    "min_avg_loss = float('inf')\n",
    "losses = []\n",
    "for i in range(10000):\n",
    "    loss = -model.ELBO(X.double(),y_star.double())\n",
    "    optimizer.zero_grad()\n",
    "    loss.backward()\n",
    "    optimizer.step()\n",
    "    losses.append(loss.item())\n",
    "    if i % 1000 == 0:\n",
    "        lr_scheduler.step()\n",
    "        print(f'At iteration {i}, the loss is {loss.item()}')\n",
    "    if i > t:\n",
    "        cur_avg_loss = np.mean(losses[-t:-1])\n",
    "        if cur_avg_loss < min_avg_loss:\n",
    "            min_avg_loss = cur_avg_loss\n",
    "            p_cur = 0\n",
    "            best_model = copy.deepcopy(model)\n",
    "        else:\n",
    "            p_cur += 1\n",
    "    if p_cur > patience:\n",
    "        break"
   ]
  },
  {
   "cell_type": "code",
   "execution_count": null,
   "id": "59c8c76f-5de3-4c1d-82c5-c7f88aff0616",
   "metadata": {
    "tags": []
   },
   "outputs": [],
   "source": [
    "best_model.inference(X = X.double(),  num_samples = 1000, plot = True, true_beta = true_beta)"
   ]
  },
  {
   "cell_type": "code",
   "execution_count": 138,
   "id": "05fa213d-e116-4523-935a-d08e2a5c763a",
   "metadata": {},
   "outputs": [
    {
     "data": {
      "text/plain": [
       "0.01"
      ]
     },
     "execution_count": 138,
     "metadata": {},
     "output_type": "execute_result"
    }
   ],
   "source": [
    "p_causal/p"
   ]
  },
  {
   "cell_type": "code",
   "execution_count": 23,
   "id": "d4ead263-ef09-4445-98bc-23a0e299dd02",
   "metadata": {},
   "outputs": [
    {
     "data": {
      "text/plain": [
       "tensor(0.0008)"
      ]
     },
     "execution_count": 23,
     "metadata": {},
     "output_type": "execute_result"
    }
   ],
   "source": [
    "torch.sum(torch.sigmoid(model.logit_pi_local)>0.9)/p"
   ]
  },
  {
   "cell_type": "code",
   "execution_count": 11,
   "id": "97623cbe-d802-4fe2-af84-2c1204d0aa74",
   "metadata": {},
   "outputs": [
    {
     "name": "stdout",
     "output_type": "stream",
     "text": [
      "tensor(2.1269e-05, dtype=torch.float64, grad_fn=<MaxBackward1>)\n",
      "tensor(3.6996e-08, dtype=torch.float64, grad_fn=<MinBackward1>)\n"
     ]
    }
   ],
   "source": [
    "print(torch.max(torch.sigmoid(model.logit_pi_local)))\n",
    "print(torch.min(torch.sigmoid(model.logit_pi_local)))"
   ]
  },
  {
   "cell_type": "code",
   "execution_count": 12,
   "id": "edb9598b-0375-4630-949c-80c461aef9d6",
   "metadata": {},
   "outputs": [
    {
     "data": {
      "text/plain": [
       "tensor(-0.0113, dtype=torch.float64, grad_fn=<MinBackward1>)"
      ]
     },
     "execution_count": 12,
     "metadata": {},
     "output_type": "execute_result"
    }
   ],
   "source": [
    "torch.min(model.beta_mu)"
   ]
  },
  {
   "cell_type": "code",
   "execution_count": 13,
   "id": "fa44472d-e6d9-499e-9265-ae0fe9cf2355",
   "metadata": {},
   "outputs": [
    {
     "data": {
      "text/plain": [
       "tensor(0.0110, dtype=torch.float64, grad_fn=<MaxBackward1>)"
      ]
     },
     "execution_count": 13,
     "metadata": {},
     "output_type": "execute_result"
    }
   ],
   "source": [
    "torch.max(model.beta_mu)"
   ]
  },
  {
   "cell_type": "code",
   "execution_count": 14,
   "id": "8897bf7e-b141-4400-a49f-e1b33b3b5617",
   "metadata": {},
   "outputs": [
    {
     "data": {
      "text/plain": [
       "tensor([0.7338, 0.7338, 0.7338,  ..., 0.7338, 0.7338, 0.7338],\n",
       "       dtype=torch.float64, grad_fn=<ExpBackward0>)"
      ]
     },
     "execution_count": 14,
     "metadata": {},
     "output_type": "execute_result"
    }
   ],
   "source": [
    "torch.exp(model.beta_log_var)"
   ]
  },
  {
   "cell_type": "code",
   "execution_count": 15,
   "id": "bd3fb87c-9a7f-4bdc-9432-7168f26846cb",
   "metadata": {},
   "outputs": [
    {
     "data": {
      "text/plain": [
       "tensor(0.7337, dtype=torch.float64, grad_fn=<MeanBackward0>)"
      ]
     },
     "execution_count": 15,
     "metadata": {},
     "output_type": "execute_result"
    }
   ],
   "source": [
    "torch.mean(torch.exp(model.beta_log_var))"
   ]
  },
  {
   "cell_type": "code",
   "execution_count": 10,
   "id": "58fd7a2c-8ee2-452b-be2c-b1fc061fd8a7",
   "metadata": {},
   "outputs": [
    {
     "name": "stdout",
     "output_type": "stream",
     "text": [
      "[4.10831128]\n",
      "[1813.69400553]\n"
     ]
    },
    {
     "data": {
      "text/plain": [
       "0.0021048419179539512"
      ]
     },
     "execution_count": 10,
     "metadata": {},
     "output_type": "execute_result"
    }
   ],
   "source": [
    "c = torch.exp(best_model.log_c).detach().numpy()\n",
    "d = torch.exp(best_model.log_d).detach().numpy()\n",
    "# c = 10\n",
    "# d = 1000\n",
    "print(c)\n",
    "print(d)\n",
    "posterior = np.random.beta(c,d,size = (5000,))\n",
    "np.median(posterior)"
   ]
  },
  {
   "cell_type": "code",
   "execution_count": 11,
   "id": "08d6a485-7b3a-4e65-a2f4-dac067927950",
   "metadata": {},
   "outputs": [
    {
     "name": "stdout",
     "output_type": "stream",
     "text": [
      "0.0006107508157321758\n",
      "0.004793543542811561\n"
     ]
    }
   ],
   "source": [
    "print(np.quantile(posterior, q = 0.025))\n",
    "print(np.quantile(posterior, q = 0.975))"
   ]
  },
  {
   "cell_type": "code",
   "execution_count": 12,
   "id": "cd7d8a66-638a-4ae7-bbec-8f09ba3877e7",
   "metadata": {},
   "outputs": [
    {
     "data": {
      "image/png": "[encoded data removed]",
      "text/plain": [
       "<Figure size 640x480 with 1 Axes>"
      ]
     },
     "metadata": {},
     "output_type": "display_data"
    }
   ],
   "source": [
    "plt.hist(posterior)\n",
    "plt.show()"
   ]
  },
  {
   "cell_type": "markdown",
   "id": "80ff0538-1fd4-4ff8-998e-1024f4d59ba9",
   "metadata": {},
   "source": [
    "# "
   ]
  }
 ],
 "metadata": {
  "kernelspec": {
   "display_name": "Python 3",
   "language": "python",
   "name": "python3"
  },
  "language_info": {
   "codemirror_mode": {
    "name": "ipython",
    "version": 3
   },
   "file_extension": ".py",
   "mimetype": "text/x-python",
   "name": "python",
   "nbconvert_exporter": "python",
   "pygments_lexer": "ipython3",
   "version": "3.7.13"
  }
 },
 "nbformat": 4,
 "nbformat_minor": 5
}
